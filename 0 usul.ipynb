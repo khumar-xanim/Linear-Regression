{
 "cells": [
  {
   "cell_type": "code",
   "execution_count": 39,
   "id": "681585a3-7112-4226-a2c3-0f3ee9ce64d8",
   "metadata": {},
   "outputs": [],
   "source": [
    "import pandas as pd\n",
    "import numpy as np\n",
    "import warnings\n",
    "warnings.filterwarnings(\"ignore\")\n",
    "from sklearn.model_selection import train_test_split\n",
    "\n",
    "from collections import defaultdict\n",
    "from sklearn.cluster import DBSCAN\n",
    "from sklearn.ensemble import IsolationForest\n",
    "from sklearn.neighbors import LocalOutlierFactor\n",
    "from sklearn.preprocessing import StandardScaler, RobustScaler\n",
    "from scipy.stats import zscore\n",
    "import matplotlib.pyplot as plt\n",
    "from collections import Counter\n",
    "\n",
    "from sklearn.impute import KNNImputer\n",
    "from sklearn.preprocessing import OrdinalEncoder\n",
    "from sklearn.preprocessing import OneHotEncoder\n",
    "from sklearn.preprocessing import LabelEncoder\n",
    "\n",
    "from itertools import combinations\n",
    "\n",
    "from sklearn.linear_model import LinearRegression\n",
    "from sklearn.metrics import mean_absolute_error, mean_squared_error, r2_score\n",
    "from sklearn.feature_selection import SelectKBest, f_regression\n",
    "from sklearn.preprocessing import (\n",
    "    StandardScaler, RobustScaler, MinMaxScaler,\n",
    "    PowerTransformer, QuantileTransformer)\n",
    "from sklearn.ensemble import RandomForestRegressor\n",
    "from sklearn.model_selection import KFold\n",
    "from sklearn.base import BaseEstimator, TransformerMixin\n",
    "\n",
    "from scipy.stats import skew, kurtosis, normaltest, jarque_bera\n",
    "\n"
   ]
  },
  {
   "cell_type": "code",
   "execution_count": 2,
   "id": "b9a5bced-ce5a-40dc-8229-7320e47d1b7b",
   "metadata": {
    "scrolled": true
   },
   "outputs": [],
   "source": [
    "df=pd.read_csv('house_price_train.csv')"
   ]
  },
  {
   "cell_type": "code",
   "execution_count": 3,
   "id": "942cfcf6-a3f1-4d4a-b8b3-b99c20b892ac",
   "metadata": {},
   "outputs": [
    {
     "data": {
      "text/plain": [
       "(1460, 81)"
      ]
     },
     "execution_count": 3,
     "metadata": {},
     "output_type": "execute_result"
    }
   ],
   "source": [
    "df.shape"
   ]
  },
  {
   "cell_type": "code",
   "execution_count": 4,
   "id": "b2c44d71-ff58-4083-917c-992e2455eeaf",
   "metadata": {},
   "outputs": [],
   "source": [
    "df['MSSubClass'] = df['MSSubClass'].astype(str)"
   ]
  },
  {
   "cell_type": "markdown",
   "id": "a52aa112-e0d0-4922-9744-6d83202a6257",
   "metadata": {},
   "source": [
    "## train test split and save files"
   ]
  },
  {
   "cell_type": "code",
   "execution_count": 5,
   "id": "9d94fcd7-c50f-4ace-934a-2ec6b19475b4",
   "metadata": {},
   "outputs": [],
   "source": [
    "train_df, test_df = train_test_split(df, test_size=0.2, random_state=42)\n",
    "\n",
    "\n",
    "X_train = train_df.drop(columns=['SalePrice'])\n",
    "y_train = train_df['SalePrice']\n",
    "\n",
    "X_test = test_df.drop(columns=['SalePrice'])\n",
    "y_test = test_df['SalePrice']\n",
    "\n",
    "X_train.to_csv(\"X_train.csv\", index=False)\n",
    "y_train.to_csv(\"y_train.csv\", index=False)\n",
    "X_test.to_csv(\"X_test.csv\", index=False)\n",
    "y_test.to_csv(\"y_test.csv\", index=False)"
   ]
  },
  {
   "cell_type": "code",
   "execution_count": 6,
   "id": "8addfb5c-535a-41be-b68b-1fe3158f90cc",
   "metadata": {},
   "outputs": [],
   "source": [
    "X_train= pd.read_csv(\"X_train.csv\", dtype={'MSSubClass': str})\n",
    "y_train= pd.read_csv(\"y_train.csv\")\n",
    "X_test= pd.read_csv(\"X_test.csv\", dtype={'MSSubClass': str})\n",
    "y_test= pd.read_csv(\"y_test.csv\")"
   ]
  },
  {
   "cell_type": "code",
   "execution_count": 7,
   "id": "ba98c4cf-d6b2-4474-9503-f9a35c926c10",
   "metadata": {},
   "outputs": [
    {
     "data": {
      "text/plain": [
       "((1168, 80), (292, 80))"
      ]
     },
     "execution_count": 7,
     "metadata": {},
     "output_type": "execute_result"
    }
   ],
   "source": [
    "X_train.shape, X_test.shape"
   ]
  },
  {
   "cell_type": "markdown",
   "id": "9d56b95f-6e4b-4e6c-92ec-4476b272c128",
   "metadata": {},
   "source": [
    "## identify uninformative columns"
   ]
  },
  {
   "cell_type": "code",
   "execution_count": 8,
   "id": "9d393644-1d12-4966-927d-2dc593553114",
   "metadata": {},
   "outputs": [],
   "source": [
    "def identify_basic_uninformative_columns(df, threshold_null=0.8):\n",
    "    df = df.copy()\n",
    "    flagged_cols = {} \n",
    "    # 1 nulls\n",
    "    null_ratios = df.isnull().mean()\n",
    "    null_cols = null_ratios[null_ratios > threshold_null].index.tolist()\n",
    "    flagged_cols['TooManyNulls'] = null_cols\n",
    "    # 2 uniques\n",
    "    unique_cols = [col for col in df.columns if df[col].nunique(dropna=False) == df.shape[0]]\n",
    "    flagged_cols['UniqueIDColumns'] = unique_cols\n",
    "    # 3 low var\n",
    "    low_var_cols = [col for col in df.columns if df[col].value_counts(normalize=True, dropna=False).values[0] > 0.99]\n",
    "    flagged_cols['LowVariance'] = low_var_cols\n",
    "\n",
    "    return flagged_cols\n"
   ]
  },
  {
   "cell_type": "code",
   "execution_count": 9,
   "id": "29692705-d7cb-4dc2-9c24-9ab68a52dfd0",
   "metadata": {},
   "outputs": [
    {
     "name": "stdout",
     "output_type": "stream",
     "text": [
      "\n",
      " TooManyNulls (4 column(s)):\n",
      "   - Alley\n",
      "   - PoolQC\n",
      "   - Fence\n",
      "   - MiscFeature\n",
      "\n",
      " UniqueIDColumns (1 column(s)):\n",
      "   - Id\n",
      "\n",
      " LowVariance (5 column(s)):\n",
      "   - Street\n",
      "   - Utilities\n",
      "   - Condition2\n",
      "   - PoolArea\n",
      "   - PoolQC\n"
     ]
    }
   ],
   "source": [
    "flags = identify_basic_uninformative_columns(X_train)\n",
    "for reason, columns in flags.items():\n",
    "    if columns:\n",
    "        print(f\"\\n {reason} ({len(columns)} column(s)):\")\n",
    "        for col in columns:\n",
    "            print(f\"   - {col}\")\n",
    "    else:\n",
    "        print(f\"\\n {reason}: no column\")\n",
    "\n",
    "cols_to_drop = set(sum(flags.values(), []))\n",
    "X_train_final = X_train.drop(columns=cols_to_drop)\n",
    "X_test_final = X_test.drop(columns=[col for col in cols_to_drop if col in X_test.columns])\n",
    "X_train_final.to_csv(\"X_train_final.csv\", index=False)\n",
    "X_test_final.to_csv(\"X_test_final.csv\", index=False)"
   ]
  },
  {
   "cell_type": "markdown",
   "id": "687343a1-9f16-4b13-b414-d753722bee86",
   "metadata": {},
   "source": [
    "## outlier detection"
   ]
  },
  {
   "cell_type": "code",
   "execution_count": 10,
   "id": "9c547e1d-cda6-4b2e-bc13-16b4308bb3c3",
   "metadata": {},
   "outputs": [],
   "source": [
    "X_train_final = pd.read_csv(\"X_train_final.csv\", dtype={'MSSubClass': str})"
   ]
  },
  {
   "cell_type": "code",
   "execution_count": 11,
   "id": "be826637-cad1-4441-8f24-541bca35cce7",
   "metadata": {},
   "outputs": [],
   "source": [
    "def detect_outliers_by_methods(col_data):\n",
    "    results = {}\n",
    "    col_data = col_data.dropna()\n",
    "    # z-score\n",
    "    z_scores = np.abs(zscore(col_data))\n",
    "    results['zscore'] = col_data.index[z_scores > 3].tolist()\n",
    "    # IQR\n",
    "    Q1 = col_data.quantile(0.25)\n",
    "    Q3 = col_data.quantile(0.75)\n",
    "    IQR = Q3 - Q1\n",
    "    iqr_mask = (col_data < Q1 - 1.5 * IQR) | (col_data > Q3 + 1.5 * IQR)\n",
    "    results['iqr'] = col_data.index[iqr_mask].tolist()\n",
    "    # Percentile\n",
    "    low = col_data.quantile(0.01)\n",
    "    high = col_data.quantile(0.99)\n",
    "    results['percentile'] = col_data.index[(col_data < low) | (col_data > high)].tolist()\n",
    "    # Modified Z-score\n",
    "    median = np.median(col_data)\n",
    "    mad = np.median(np.abs(col_data - median))\n",
    "    if mad != 0:\n",
    "        mod_z = 0.6745 * (col_data - median) / mad\n",
    "        results['modified_z'] = col_data.index[np.abs(mod_z) > 3.5].tolist()\n",
    "    else:\n",
    "        results['modified_z'] = []\n",
    "    # Isolation Forest\n",
    "    try:\n",
    "        iso = IsolationForest(contamination=0.01, random_state=42)\n",
    "        preds = iso.fit_predict(col_data.values.reshape(-1, 1))\n",
    "        results['isolation_forest'] = col_data.index[preds == -1].tolist()\n",
    "    except:\n",
    "        results['isolation_forest'] = []\n",
    "    # LOF\n",
    "    try:\n",
    "        lof = LocalOutlierFactor(n_neighbors=50)\n",
    "        preds = lof.fit_predict(col_data.values.reshape(-1, 1))\n",
    "        results['lof'] = col_data.index[preds == -1].tolist()\n",
    "    except:\n",
    "        results['lof'] = []\n",
    "    # DBSCAN\n",
    "    try:\n",
    "        scaled = StandardScaler().fit_transform(col_data.values.reshape(-1, 1))\n",
    "        db = DBSCAN(eps=0.5, min_samples=5).fit(scaled)\n",
    "        results['dbscan'] = col_data.index[db.labels_ == -1].tolist()\n",
    "    except:\n",
    "        results['dbscan'] = []\n",
    "\n",
    "    return results\n"
   ]
  },
  {
   "cell_type": "code",
   "execution_count": 12,
   "id": "d02dbf92-cc35-4503-a27f-8093471c4eef",
   "metadata": {},
   "outputs": [],
   "source": [
    "def outlier_comparison_table(df, numeric_cols=None):\n",
    "    if numeric_cols is None:\n",
    "        numeric_cols = df.select_dtypes(include='number').columns\n",
    "\n",
    "    rows = []\n",
    "\n",
    "    for col in numeric_cols:\n",
    "        col_data = df[col].dropna()\n",
    "        if col_data.nunique() < 15:\n",
    "            rows.append({\"Column\": col, **{k: 0 for k in ['zscore','iqr','percentile','modified_z','isolation_forest','lof','dbscan']}})\n",
    "            continue\n",
    "\n",
    "        outlier_result = detect_outliers_by_methods(col_data)\n",
    "        summary = {k: len(v) if isinstance(v, list) else 0 for k, v in outlier_result.items()}\n",
    "        summary['Column'] = col\n",
    "        rows.append(summary)\n",
    "\n",
    "    return pd.DataFrame(rows)\n"
   ]
  },
  {
   "cell_type": "code",
   "execution_count": 13,
   "id": "db2ffa83-f75e-4272-83ad-0b24742f7d16",
   "metadata": {},
   "outputs": [],
   "source": [
    "def analyze_column_outliers(df, column, show_plot=True, show_all_indices=True, verbose=False):\n",
    "    col_data = df[column].dropna()\n",
    "    print(f\"\\n Describe for: {column}\")\n",
    "    print(col_data.describe())\n",
    "\n",
    "    if show_plot:\n",
    "        plt.figure(figsize=(8, 1))\n",
    "        plt.boxplot(col_data, vert=False)\n",
    "        plt.title(f\"Boxplot of {column}\")\n",
    "        plt.grid(True)\n",
    "        plt.show()\n",
    "\n",
    "    outlier_indices = detect_outliers_by_methods(col_data)\n",
    "    if verbose:\n",
    "        print(f\"\\n Outlier indexes (rows) → for '{column}':\")\n",
    "        for method, indices in outlier_indices.items():\n",
    "            print(f\"  {method.upper()} ({len(indices)}): {indices if show_all_indices else indices[:10]}{'...' if len(indices) > 10 else ''}\")\n",
    "\n",
    "    return outlier_indices\n"
   ]
  },
  {
   "cell_type": "code",
   "execution_count": 14,
   "id": "b692124d-03b8-49eb-976f-3d8352c9b923",
   "metadata": {},
   "outputs": [
    {
     "name": "stdout",
     "output_type": "stream",
     "text": [
      " zscore  iqr  percentile  modified_z  isolation_forest  lof  dbscan        Column\n",
      "     10   68          10          22                10  185       4   LotFrontage\n",
      "     12   54          17          43                12   44       5       LotArea\n",
      "      0    0           0           0                 0    0       0   OverallQual\n",
      "      0    0           0           0                 0    0       0   OverallCond\n",
      "      2    5          13           0                12   39       0     YearBuilt\n",
      "      0    0           4           0                 8   49       0  YearRemodAdd\n",
      "     26   77          12           0                12   36       2    MasVnrArea\n",
      "      4    5          12           1                12   59       2    BsmtFinSF1\n",
      "     42  131          12           0                12   24       0    BsmtFinSF2\n",
      "      7   21          12           5                12   24       0     BsmtUnfSF\n",
      "      8   47          12           8                12   65       5   TotalBsmtSF\n",
      "      8   13          22           8                12   31       3      1stFlrSF\n",
      "      3    1          12           0                12   34       1      2ndFlrSF\n",
      "     15   21          12           0                12   21      16  LowQualFinSF\n",
      "     15   23          24          13                12   41       3     GrLivArea\n",
      "      0    0           0           0                 0    0       0  BsmtFullBath\n",
      "      0    0           0           0                 0    0       0  BsmtHalfBath\n",
      "      0    0           0           0                 0    0       0      FullBath\n",
      "      0    0           0           0                 0    0       0      HalfBath\n",
      "      0    0           0           0                 0    0       0  BedroomAbvGr\n",
      "      0    0           0           0                 0    0       0  KitchenAbvGr\n",
      "      0    0           0           0                 0    0       0  TotRmsAbvGrd\n",
      "      0    0           0           0                 0    0       0    Fireplaces\n",
      "      1    1          13           0                10   51       0   GarageYrBlt\n",
      "      0    0           0           0                 0    0       0    GarageCars\n",
      "      5   18          12           5                12  101       2    GarageArea\n",
      "     20   30          12           0                12   44       3    WoodDeckSF\n",
      "     23   60          12          75                12   16       5   OpenPorchSF\n",
      "     43  160          11           0                12   22       2 EnclosedPorch\n",
      "     20   20          12           0                12   20       8     3SsnPorch\n",
      "     43   97          12           0                12   22       5   ScreenPorch\n",
      "      8   44          12           0                12   44       8       MiscVal\n",
      "      0    0           0           0                 0    0       0        MoSold\n",
      "      0    0           0           0                 0    0       0        YrSold\n"
     ]
    }
   ],
   "source": [
    "summary_df = outlier_comparison_table(X_train_final)\n",
    "print(summary_df.to_string(index=False))"
   ]
  },
  {
   "cell_type": "code",
   "execution_count": 15,
   "id": "2c73193c-edb8-41ee-b9bb-6f805a2dc732",
   "metadata": {},
   "outputs": [],
   "source": [
    "summary_df.to_csv(\"X_train_outliers_summary.csv\", index=False)"
   ]
  },
  {
   "cell_type": "code",
   "execution_count": 16,
   "id": "dc4382ce-d3da-4c08-8eed-0fe7b7a297e2",
   "metadata": {},
   "outputs": [
    {
     "name": "stdout",
     "output_type": "stream",
     "text": [
      "\n",
      " Describe for: BsmtFinSF1\n",
      "count    1168.000000\n",
      "mean      446.023973\n",
      "std       459.070977\n",
      "min         0.000000\n",
      "25%         0.000000\n",
      "50%       384.500000\n",
      "75%       721.000000\n",
      "max      5644.000000\n",
      "Name: BsmtFinSF1, dtype: float64\n"
     ]
    },
    {
     "data": {
      "image/png": "[encoded data removed]",
      "text/plain": [
       "<Figure size 800x100 with 1 Axes>"
      ]
     },
     "metadata": {},
     "output_type": "display_data"
    },
    {
     "data": {
      "text/plain": [
       "{'zscore': [173, 208, 365, 495],\n",
       " 'iqr': [173, 208, 365, 495, 920],\n",
       " 'percentile': [67, 123, 173, 208, 365, 388, 495, 537, 597, 664, 719, 920],\n",
       " 'modified_z': [495],\n",
       " 'isolation_forest': [67,\n",
       "  123,\n",
       "  173,\n",
       "  208,\n",
       "  365,\n",
       "  388,\n",
       "  495,\n",
       "  537,\n",
       "  597,\n",
       "  664,\n",
       "  719,\n",
       "  920],\n",
       " 'lof': [16,\n",
       "  54,\n",
       "  67,\n",
       "  72,\n",
       "  73,\n",
       "  101,\n",
       "  123,\n",
       "  132,\n",
       "  148,\n",
       "  173,\n",
       "  175,\n",
       "  208,\n",
       "  216,\n",
       "  218,\n",
       "  250,\n",
       "  258,\n",
       "  292,\n",
       "  296,\n",
       "  306,\n",
       "  312,\n",
       "  322,\n",
       "  351,\n",
       "  365,\n",
       "  388,\n",
       "  394,\n",
       "  422,\n",
       "  454,\n",
       "  474,\n",
       "  495,\n",
       "  507,\n",
       "  537,\n",
       "  560,\n",
       "  587,\n",
       "  590,\n",
       "  591,\n",
       "  597,\n",
       "  664,\n",
       "  719,\n",
       "  742,\n",
       "  744,\n",
       "  753,\n",
       "  775,\n",
       "  786,\n",
       "  793,\n",
       "  811,\n",
       "  812,\n",
       "  835,\n",
       "  879,\n",
       "  889,\n",
       "  920,\n",
       "  981,\n",
       "  1046,\n",
       "  1095,\n",
       "  1113,\n",
       "  1133,\n",
       "  1147,\n",
       "  1150,\n",
       "  1158,\n",
       "  1163],\n",
       " 'dbscan': [365, 495]}"
      ]
     },
     "execution_count": 16,
     "metadata": {},
     "output_type": "execute_result"
    }
   ],
   "source": [
    "analyze_column_outliers(X_train_final, 'BsmtFinSF1')"
   ]
  },
  {
   "cell_type": "code",
   "execution_count": 17,
   "id": "b50ccaee-6d91-4695-ad4d-36e0bb314dbe",
   "metadata": {},
   "outputs": [],
   "source": [
    "def build_multimethod_outlier_strategy(summary_df, skew_threshold=1.0, min_methods_per_column=3):\n",
    "    strategy = defaultdict(list)\n",
    "    skewed_columns = []\n",
    "\n",
    "    for _, row in summary_df.iterrows():\n",
    "        col = row['Column']\n",
    "        methods = ['zscore', 'iqr', 'percentile', 'modified_z', 'isolation_forest', 'lof', 'dbscan']\n",
    "        selected_methods = [m for m in methods if row[m] > 0]\n",
    "\n",
    "        if 'zscore' in selected_methods or 'modified_z' in selected_methods:\n",
    "            col_data = X_train_final[col].dropna()\n",
    "            if col_data.skew() > skew_threshold:\n",
    "                skewed_columns.append(col)\n",
    "                if 'zscore' in selected_methods:\n",
    "                    selected_methods.remove('zscore')\n",
    "                if 'modified_z' in selected_methods:\n",
    "                    selected_methods.remove('modified_z')\n",
    "\n",
    "        if len(selected_methods) >= min_methods_per_column:\n",
    "            strategy[col] = selected_methods\n",
    "\n",
    "    print(f\"Skewed columns where zscore/modified_z were removed: {skewed_columns}\")\n",
    "    return strategy\n",
    "\n",
    "\n",
    "def remove_outliers_multimethod_v2(df, strategy, min_methods=3, min_columns=3):\n",
    "    df_cleaned = df.copy()\n",
    "    total_rows_before = df.shape[0]\n",
    "    method_based_outlier_indices = defaultdict(list)\n",
    "    column_based_outlier_flags = defaultdict(set)\n",
    "\n",
    "    for col, methods in strategy.items():\n",
    "        col_data = df_cleaned[col].dropna()\n",
    "        if col_data.nunique() < 5:\n",
    "            continue\n",
    "\n",
    "        for method in methods:\n",
    "            indices = []\n",
    "\n",
    "            if method == \"zscore\":\n",
    "                z_scores = np.abs(zscore(col_data))\n",
    "                indices = col_data.index[z_scores > 3]\n",
    "\n",
    "            elif method == \"iqr\":\n",
    "                Q1 = col_data.quantile(0.25)\n",
    "                Q3 = col_data.quantile(0.75)\n",
    "                IQR = Q3 - Q1\n",
    "                mask = (col_data < Q1 - 1.5 * IQR) | (col_data > Q3 + 1.5 * IQR)\n",
    "                indices = col_data.index[mask]\n",
    "\n",
    "            elif method == \"percentile\":\n",
    "                low = col_data.quantile(0.01)\n",
    "                high = col_data.quantile(0.99)\n",
    "                indices = col_data.index[(col_data < low) | (col_data > high)]\n",
    "\n",
    "            elif method == \"modified_z\":\n",
    "                median = np.median(col_data)\n",
    "                mad = np.median(np.abs(col_data - median))\n",
    "                if mad != 0:\n",
    "                    mod_z = 0.6745 * (col_data - median) / mad\n",
    "                    indices = col_data.index[np.abs(mod_z) > 3.5]\n",
    "\n",
    "            elif method == \"isolation_forest\":\n",
    "                try:\n",
    "                    model = IsolationForest(contamination=0.01, random_state=42)\n",
    "                    preds = model.fit_predict(col_data.values.reshape(-1, 1))\n",
    "                    indices = col_data.index[preds == -1]\n",
    "                except:\n",
    "                    pass\n",
    "\n",
    "            elif method == \"lof\":\n",
    "                try:\n",
    "                    model = LocalOutlierFactor(n_neighbors=50)\n",
    "                    preds = model.fit_predict(col_data.values.reshape(-1, 1))\n",
    "                    indices = col_data.index[preds == -1]\n",
    "                except:\n",
    "                    pass\n",
    "\n",
    "            elif method == \"dbscan\":\n",
    "                try:\n",
    "                    scaled = StandardScaler().fit_transform(col_data.values.reshape(-1, 1))\n",
    "                    db = DBSCAN(eps=0.5, min_samples=5).fit(scaled)\n",
    "                    indices = col_data.index[db.labels_ == -1]\n",
    "                except:\n",
    "                    pass\n",
    "\n",
    "            for idx in indices:\n",
    "                method_based_outlier_indices[idx].append((col, method))\n",
    "                column_based_outlier_flags[idx].add(col)\n",
    "\n",
    "    strong_outliers = [idx for idx, hits in method_based_outlier_indices.items()\n",
    "                       if len(hits) >= min_methods or len(column_based_outlier_flags[idx]) >= min_columns]\n",
    "\n",
    "    df_cleaned = df_cleaned.drop(index=strong_outliers).reset_index(drop=True)\n",
    "    total_rows_after = df_cleaned.shape[0]\n",
    "    print(f\" Outliers removed: {total_rows_before - total_rows_after} rows removed using \"\n",
    "          f\"{min_methods}+ methods in same column or {min_columns}+ distinct columns.\")\n",
    "\n",
    "    return df_cleaned, strong_outliers\n"
   ]
  },
  {
   "cell_type": "code",
   "execution_count": 18,
   "id": "6a356b6f-61e8-4df8-8173-5b38ad8ea332",
   "metadata": {},
   "outputs": [
    {
     "name": "stdout",
     "output_type": "stream",
     "text": [
      "Skewed columns where zscore/modified_z were removed: ['LotFrontage', 'LotArea', 'MasVnrArea', 'BsmtFinSF1', 'BsmtFinSF2', 'TotalBsmtSF', '1stFlrSF', 'LowQualFinSF', 'GrLivArea', 'WoodDeckSF', 'OpenPorchSF', 'EnclosedPorch', '3SsnPorch', 'ScreenPorch', 'MiscVal']\n",
      " Outliers removed: 301 rows removed using 3+ methods in same column or 3+ distinct columns.\n"
     ]
    }
   ],
   "source": [
    "strategy = build_multimethod_outlier_strategy(summary_df, skew_threshold=1.0, min_methods_per_column=2)\n",
    "X_train_cleaned, removed_outlier_indices = remove_outliers_multimethod_v2(X_train_final, strategy, min_methods=3, min_columns=3)\n",
    "y_train_cleaned = y_train.drop(index=removed_outlier_indices).reset_index(drop=True)\n",
    "X_train_cleaned = X_train_cleaned.reset_index(drop=True)"
   ]
  },
  {
   "cell_type": "code",
   "execution_count": 19,
   "id": "5c4d0b4c-cd18-4e3b-968f-5b2063fe192a",
   "metadata": {},
   "outputs": [
    {
     "name": "stdout",
     "output_type": "stream",
     "text": [
      "\n",
      " Describe for: BsmtFinSF1\n",
      "count     867.000000\n",
      "mean      436.764706\n",
      "std       411.116320\n",
      "min         0.000000\n",
      "25%         0.000000\n",
      "50%       405.000000\n",
      "75%       722.000000\n",
      "max      1572.000000\n",
      "Name: BsmtFinSF1, dtype: float64\n"
     ]
    },
    {
     "data": {
      "image/png": "[encoded data removed]",
      "text/plain": [
       "<Figure size 800x100 with 1 Axes>"
      ]
     },
     "metadata": {},
     "output_type": "display_data"
    },
    {
     "data": {
      "text/plain": [
       "{'zscore': [],\n",
       " 'iqr': [],\n",
       " 'percentile': [99, 239, 318, 325, 446, 476, 504, 560, 752],\n",
       " 'modified_z': [],\n",
       " 'isolation_forest': [99, 239, 318, 325, 446, 476, 504, 560, 752],\n",
       " 'lof': [60,\n",
       "  80,\n",
       "  116,\n",
       "  135,\n",
       "  168,\n",
       "  170,\n",
       "  204,\n",
       "  226,\n",
       "  229,\n",
       "  236,\n",
       "  240,\n",
       "  248,\n",
       "  273,\n",
       "  318,\n",
       "  353,\n",
       "  417,\n",
       "  514,\n",
       "  554,\n",
       "  587,\n",
       "  602,\n",
       "  603,\n",
       "  618,\n",
       "  632,\n",
       "  653,\n",
       "  660,\n",
       "  730,\n",
       "  739,\n",
       "  815,\n",
       "  829,\n",
       "  845,\n",
       "  859],\n",
       " 'dbscan': []}"
      ]
     },
     "execution_count": 19,
     "metadata": {},
     "output_type": "execute_result"
    }
   ],
   "source": [
    "analyze_column_outliers(X_train_cleaned, 'BsmtFinSF1')"
   ]
  },
  {
   "cell_type": "markdown",
   "id": "8da15a29-c4e3-4870-8774-b17c427543c3",
   "metadata": {},
   "source": [
    "## imputation\n"
   ]
  },
  {
   "cell_type": "code",
   "execution_count": 20,
   "id": "93ed43aa-c265-4878-a7a6-a2ee910d4889",
   "metadata": {},
   "outputs": [
    {
     "name": "stdout",
     "output_type": "stream",
     "text": [
      "MasVnrType       500\n",
      "FireplaceQu      435\n",
      "LotFrontage      159\n",
      "GarageYrBlt       47\n",
      "GarageCond        47\n",
      "                ... \n",
      "MiscVal            0\n",
      "MoSold             0\n",
      "YrSold             0\n",
      "SaleType           0\n",
      "SaleCondition      0\n",
      "Length: 71, dtype: int64\n"
     ]
    }
   ],
   "source": [
    "print(X_train_cleaned.isnull().sum().sort_values(ascending=False))"
   ]
  },
  {
   "cell_type": "code",
   "execution_count": 21,
   "id": "b6070f49-895a-48e1-9a12-3e7c95e19844",
   "metadata": {},
   "outputs": [],
   "source": [
    "def smart_imputation(X_train, X_test, knn_neighbors=5):\n",
    "    from sklearn.impute import KNNImputer\n",
    "\n",
    "    X_train_imputed = X_train.copy()\n",
    "    X_test_imputed = X_test.copy()\n",
    "    \n",
    "    numeric_cols = X_train.select_dtypes(include=np.number).columns\n",
    "    categorical_cols = X_train.select_dtypes(exclude=np.number).columns\n",
    "\n",
    "    low_missing = []\n",
    "    knn_missing = []\n",
    "    high_missing = []\n",
    "\n",
    "    for col in numeric_cols:\n",
    "        missing_ratio = X_train[col].isnull().mean()\n",
    "\n",
    "        if missing_ratio < 0.05:\n",
    "            low_missing.append(col)\n",
    "        elif missing_ratio < 0.2:\n",
    "            knn_missing.append(col)\n",
    "        else:\n",
    "            high_missing.append(col)\n",
    "\n",
    "    for col in low_missing:\n",
    "        median_val = X_train[col].median()\n",
    "        X_train_imputed[col] = X_train[col].fillna(median_val)\n",
    "        X_test_imputed[col] = X_test[col].fillna(median_val)\n",
    "\n",
    "    if knn_missing:\n",
    "        knn = KNNImputer(n_neighbors=knn_neighbors)\n",
    "        X_train_knn = knn.fit_transform(X_train[knn_missing])\n",
    "        X_test_knn = knn.transform(X_test[knn_missing])\n",
    "\n",
    "        X_train_imputed[knn_missing] = X_train_knn\n",
    "        X_test_imputed[knn_missing] = X_test_knn\n",
    "\n",
    "    for col in high_missing:\n",
    "        X_train_imputed[col + '_missing_flag'] = X_train[col].isnull().astype(int)\n",
    "        X_test_imputed[col + '_missing_flag'] = X_test[col].isnull().astype(int)\n",
    "        median_val = X_train[col].median()\n",
    "        X_train_imputed[col] = X_train[col].fillna(median_val)\n",
    "        X_test_imputed[col] = X_test[col].fillna(median_val)\n",
    "\n",
    "    for col in categorical_cols:\n",
    "        missing_ratio = X_train[col].isnull().mean()\n",
    "        if missing_ratio < 0.1:\n",
    "            mode_val = X_train[col].mode()[0]\n",
    "            X_train_imputed[col] = X_train[col].fillna(mode_val)\n",
    "            X_test_imputed[col] = X_test[col].fillna(mode_val)\n",
    "        else:\n",
    "            X_train_imputed[col] = X_train[col].fillna('Missing')\n",
    "            X_test_imputed[col] = X_test[col].fillna('Missing')\n",
    "\n",
    "    return X_train_imputed, X_test_imputed\n"
   ]
  },
  {
   "cell_type": "code",
   "execution_count": 22,
   "id": "2b305682-ead9-4ac2-9963-0d61cfe8ae92",
   "metadata": {},
   "outputs": [],
   "source": [
    "X_test_final = pd.read_csv(\"X_test_final.csv\", dtype={'MSSubClass': str})"
   ]
  },
  {
   "cell_type": "code",
   "execution_count": 23,
   "id": "990374cf-39d7-43a2-96ec-daddc9ca9fc2",
   "metadata": {},
   "outputs": [
    {
     "data": {
      "text/plain": [
       "(dtype('O'), dtype('O'))"
      ]
     },
     "execution_count": 23,
     "metadata": {},
     "output_type": "execute_result"
    }
   ],
   "source": [
    "X_train_cleaned['MSSubClass'].dtype, X_test_final['MSSubClass'].dtype"
   ]
  },
  {
   "cell_type": "code",
   "execution_count": 24,
   "id": "c4bc8651-c6f0-4dd7-8931-98458b1b6765",
   "metadata": {},
   "outputs": [],
   "source": [
    "X_train_final_imputed, X_test_final_imputed = smart_imputation(X_train_cleaned, X_test_final)"
   ]
  },
  {
   "cell_type": "code",
   "execution_count": 25,
   "id": "1db44613-83e0-4fe1-84dc-06cb38ee4354",
   "metadata": {},
   "outputs": [
    {
     "data": {
      "text/plain": [
       "(dtype('O'), dtype('O'))"
      ]
     },
     "execution_count": 25,
     "metadata": {},
     "output_type": "execute_result"
    }
   ],
   "source": [
    "X_train_final_imputed['MSSubClass'].dtype, X_test_final_imputed['MSSubClass'].dtype"
   ]
  },
  {
   "cell_type": "code",
   "execution_count": 26,
   "id": "12bb37e7-fcc5-4664-abc7-9fb2f3f86e89",
   "metadata": {},
   "outputs": [
    {
     "name": "stdout",
     "output_type": "stream",
     "text": [
      "MSSubClass       0\n",
      "MSZoning         0\n",
      "LotFrontage      0\n",
      "LotArea          0\n",
      "LotShape         0\n",
      "                ..\n",
      "MiscVal          0\n",
      "MoSold           0\n",
      "YrSold           0\n",
      "SaleType         0\n",
      "SaleCondition    0\n",
      "Length: 71, dtype: int64\n"
     ]
    }
   ],
   "source": [
    "print(X_train_final_imputed.isnull().sum().sort_values(ascending=False))"
   ]
  },
  {
   "cell_type": "markdown",
   "id": "ea57b7f2-7c7e-41e3-a11e-cfc166a5080c",
   "metadata": {},
   "source": [
    "# Feature Engineering\n"
   ]
  },
  {
   "cell_type": "code",
   "execution_count": 27,
   "id": "e1581983-3067-4ca2-a094-dbe9e16f7d0e",
   "metadata": {},
   "outputs": [],
   "source": [
    "class SafeFeatureEngineer(BaseEstimator, TransformerMixin):\n",
    "    \n",
    "    def __init__(self):\n",
    "        self.neighborhood_quality_stats = {}\n",
    "        self.saletype_stats = {}\n",
    "        self.salecondition_stats = {}\n",
    "        self.fitted = False\n",
    "    \n",
    "    def fit(self, X_train, y_train):\n",
    "        \n",
    "        if 'Neighborhood' in X_train.columns:\n",
    "            self.neighborhood_quality_stats = X_train.groupby('Neighborhood')['OverallQual'].mean().to_dict()\n",
    "            print(f\" {len(self.neighborhood_quality_stats)} neighborhood statistics learned\")\n",
    "        \n",
    "        if 'SaleType' in X_train.columns:\n",
    "            self.saletype_stats = X_train.groupby('SaleType')['OverallQual'].mean().to_dict()\n",
    "            print(f\" {len(self.saletype_stats)} SaleType statistics learned\")\n",
    "        \n",
    "        if 'SaleCondition' in X_train.columns:\n",
    "            self.salecondition_stats = X_train.groupby('SaleCondition')['OverallQual'].mean().to_dict()\n",
    "            print(f\" {len(self.salecondition_stats)} SaleCondition statistics learned\")\n",
    "        \n",
    "        self.fitted = True\n",
    "        return self\n",
    "    \n",
    "    def transform(self, X):\n",
    "        if not self.fitted:\n",
    "            raise ValueError(\"First you need to call the fit() method.\")\n",
    "        \n",
    "        X_fe = X.copy()\n",
    "        print(f\" Feature engineering is applied- Shape: {X_fe.shape}\")\n",
    "        \n",
    "        X_fe['HouseAge'] = X_fe['YrSold'] - X_fe['YearBuilt']\n",
    "        X_fe['YearsSinceRemod'] = X_fe['YrSold'] - X_fe['YearRemodAdd']\n",
    "        X_fe['GarageAge'] = X_fe['YrSold'] - X_fe['GarageYrBlt']\n",
    "        X_fe['IsNewHouse'] = (X_fe['HouseAge'] <= 2).astype(int)\n",
    "        X_fe['IsRecentRemod'] = (X_fe['YearsSinceRemod'] <= 5).astype(int)\n",
    "        \n",
    "        X_fe['TotalSF'] = X_fe['1stFlrSF'] + X_fe['2ndFlrSF'] + X_fe['TotalBsmtSF']\n",
    "        X_fe['TotalPorchSF'] = (X_fe['OpenPorchSF'] + X_fe['EnclosedPorch'] + \n",
    "                                X_fe['3SsnPorch'] + X_fe['ScreenPorch'])\n",
    "        X_fe['TotalBathrooms'] = (X_fe['FullBath'] + X_fe['HalfBath'] * 0.5 + \n",
    "                                  X_fe['BsmtFullBath'] + X_fe['BsmtHalfBath'] * 0.5)\n",
    "        \n",
    "        X_fe['LivingAreaRatio'] = np.where(X_fe['TotalSF'] > 0, \n",
    "                                          X_fe['GrLivArea'] / X_fe['TotalSF'], 0)\n",
    "        X_fe['LotAreaRatio'] = np.where(X_fe['LotArea'] > 0, \n",
    "                                       X_fe['GrLivArea'] / X_fe['LotArea'], 0)\n",
    "        X_fe['GarageAreaRatio'] = np.where(X_fe['TotalSF'] > 0,\n",
    "                                          X_fe['GarageArea'] / X_fe['TotalSF'], 0)\n",
    "        \n",
    "        X_fe['RoomDensity'] = np.where(X_fe['GrLivArea'] > 0, \n",
    "                                      X_fe['TotRmsAbvGrd'] / X_fe['GrLivArea'], 0)\n",
    "        X_fe['BedroomRatio'] = np.where(X_fe['TotRmsAbvGrd'] > 0, \n",
    "                                       X_fe['BedroomAbvGr'] / X_fe['TotRmsAbvGrd'], 0)\n",
    "        X_fe['BathBedroomRatio'] = np.where(X_fe['BedroomAbvGr'] > 0, \n",
    "                                           X_fe['TotalBathrooms'] / X_fe['BedroomAbvGr'], 0)\n",
    "        \n",
    "        X_fe['QualityIndex'] = X_fe['OverallQual'] * X_fe['OverallCond']\n",
    "        X_fe['IsHighQuality'] = (X_fe['OverallQual'] >= 8).astype(int)\n",
    "        X_fe['IsLuxury'] = ((X_fe['OverallQual'] >= 8) & (X_fe['GrLivArea'] > 2000)).astype(int)\n",
    "        X_fe['IsPremium'] = ((X_fe['OverallQual'] >= 7) & (X_fe['TotalSF'] > 1800)).astype(int)\n",
    "        \n",
    "        X_fe['HasBasement'] = (X_fe['TotalBsmtSF'] > 0).astype(int)\n",
    "        X_fe['HasGarage'] = (X_fe['GarageArea'] > 0).astype(int)\n",
    "        X_fe['HasFireplace'] = (X_fe['Fireplaces'] > 0).astype(int)\n",
    "        X_fe['Has2ndFloor'] = (X_fe['2ndFlrSF'] > 0).astype(int)\n",
    "        X_fe['HasPorch'] = (X_fe['TotalPorchSF'] > 0).astype(int)\n",
    "        X_fe['HasWoodDeck'] = (X_fe['WoodDeckSF'] > 0).astype(int)\n",
    "        X_fe['HasPool'] = (X_fe['MiscVal'] > 0).astype(int)  \n",
    "        X_fe['HasCentralAir'] = (X_fe['CentralAir'] == 'Y').astype(int)\n",
    "        \n",
    "        X_fe['IsSummerSale'] = (X_fe['MoSold'].isin([6, 7, 8])).astype(int)\n",
    "        X_fe['IsWinterSale'] = (X_fe['MoSold'].isin([12, 1, 2])).astype(int)\n",
    "        X_fe['IsSpringFallSale'] = (X_fe['MoSold'].isin([3, 4, 5, 9, 10, 11])).astype(int)\n",
    "        X_fe['IsEndOfYear'] = (X_fe['MoSold'].isin([11, 12])).astype(int)\n",
    "        \n",
    "        X_fe['YearsOldWhenSold'] = X_fe['YrSold'] - X_fe['YearBuilt']\n",
    "        X_fe['RemodeledBeforeSale'] = (X_fe['YearRemodAdd'] > X_fe['YearBuilt']).astype(int)\n",
    "\n",
    "        X_fe['Quality_Size'] = X_fe['OverallQual'] * np.log1p(X_fe['GrLivArea'])\n",
    "        X_fe['Age_Quality'] = X_fe['HouseAge'] * X_fe['OverallQual']\n",
    "        X_fe['Neighborhood_Quality'] = X_fe['OverallQual'] * X_fe['OverallCond']\n",
    "        \n",
    "        log_features = ['LotArea', 'GrLivArea', 'TotalSF', 'LotFrontage', 'MasVnrArea']\n",
    "        \n",
    "        for feature in log_features:\n",
    "            if feature in X_fe.columns:\n",
    "                X_fe[f'{feature}_Log'] = np.log1p(X_fe[feature])\n",
    "        \n",
    "        X_fe['BsmtFinishedRatio'] = np.where(X_fe['TotalBsmtSF'] > 0,\n",
    "                                            (X_fe['BsmtFinSF1'] + X_fe['BsmtFinSF2']) / X_fe['TotalBsmtSF'], 0)\n",
    "        X_fe['GarageCapacityRatio'] = np.where(X_fe['GarageArea'] > 0,\n",
    "                                              X_fe['GarageCars'] / (X_fe['GarageArea'] / 200), 0)\n",
    "        \n",
    "        X_fe = X_fe.replace([np.inf, -np.inf], np.nan)\n",
    "        \n",
    "        numeric_columns = X_fe.select_dtypes(include=[np.number]).columns\n",
    "        X_fe[numeric_columns] = X_fe[numeric_columns].fillna(0)\n",
    "        \n",
    "        object_columns = X_fe.select_dtypes(include=['object']).columns\n",
    "        X_fe[object_columns] = X_fe[object_columns].fillna('Unknown')\n",
    "        \n",
    "        print(f\" Feature engineering is complete - new shape: {X_fe.shape}\")\n",
    "        return X_fe\n",
    "\n",
    "def apply_feature_engineering(X_train_final_imputed, X_test_final_imputed, y_train_cleaned):\n",
    "\n",
    "    print(\" Feature Engineering Pipeline is started...\")\n",
    "    print(f\" Train data shape: {X_train_final_imputed.shape}\")\n",
    "    print(f\" Test data shape: {X_test_final_imputed.shape}\")\n",
    "    \n",
    "    fe = SafeFeatureEngineer()\n",
    "    \n",
    "    fe.fit(X_train_final_imputed, y_train_cleaned)\n",
    "    \n",
    "    X_train_engineered = fe.transform(X_train_final_imputed)\n",
    "    X_test_engineered = fe.transform(X_test_final_imputed)\n",
    "    \n",
    "    print(f\" Original feature count: {X_train_final_imputed.shape[1]}\")\n",
    "    print(f\" New feature count: {X_train_engineered.shape[1]}\")\n",
    "    print(f\" The number of features added: {X_train_engineered.shape[1] - X_train_final_imputed.shape[1]}\")\n",
    "    \n",
    "    return X_train_engineered, X_test_engineered\n",
    "\n",
    "def validate_feature_engineering(X_train_original, X_test_original, X_train_fe, X_test_fe):\n",
    "\n",
    "    print(\"\\n FEATURE ENGİNEERİNG validation:\")\n",
    "    \n",
    "    print(f\"Train shape: {X_train_original.shape} → {X_train_fe.shape}\")\n",
    "    print(f\"Test shape: {X_test_original.shape} → {X_test_fe.shape}\")\n",
    "    \n",
    "    if X_train_fe.shape[1] != X_test_fe.shape[1]:\n",
    "        print(\" The number of columns in the train and test data is different!\")\n",
    "    else:\n",
    "        print(\" The number of columns in the train and test data is the same.\")\n",
    "    \n",
    "    train_cols = set(X_train_fe.columns)\n",
    "    test_cols = set(X_test_fe.columns)\n",
    "    \n",
    "    if train_cols != test_cols:\n",
    "        print(\" The column names in the train and test data are different!\")\n",
    "        print(f\" In Train but not in Test: {train_cols - test_cols}\")\n",
    "        print(f\" In test but not in train: {test_cols - train_cols}\")\n",
    "    else:\n",
    "        print(\" The column names in the train and test data are the same.\")\n",
    "    \n",
    "    train_nan_count = X_train_fe.isna().sum().sum()\n",
    "    test_nan_count = X_test_fe.isna().sum().sum()\n",
    "    \n",
    "    train_inf_count = np.isinf(X_train_fe.select_dtypes(include=[np.number])).sum().sum()\n",
    "    test_inf_count = np.isinf(X_test_fe.select_dtypes(include=[np.number])).sum().sum()\n",
    "    \n",
    "    print(f\"NaN count - Train: {train_nan_count}, Test: {test_nan_count}\")\n",
    "    print(f\"Inf count - Train: {train_inf_count}, Test: {test_inf_count}\")\n",
    "    \n",
    "    print(\" Feature engineering validation is completed !\\n\")\n"
   ]
  },
  {
   "cell_type": "code",
   "execution_count": 28,
   "id": "4e1eb368-c0e1-467b-88ea-47cc968be05c",
   "metadata": {},
   "outputs": [
    {
     "name": "stdout",
     "output_type": "stream",
     "text": [
      " Feature Engineering Pipeline is started...\n",
      " Train data shape: (867, 71)\n",
      " Test data shape: (292, 71)\n",
      " 24 neighborhood statistics learned\n",
      " 9 SaleType statistics learned\n",
      " 6 SaleCondition statistics learned\n",
      " Feature engineering is applied- Shape: (867, 71)\n",
      " Feature engineering is complete - new shape: (867, 113)\n",
      " Feature engineering is applied- Shape: (292, 71)\n",
      " Feature engineering is complete - new shape: (292, 113)\n",
      " Original feature count: 71\n",
      " New feature count: 113\n",
      " The number of features added: 42\n",
      "\n",
      " FEATURE ENGİNEERİNG validation:\n",
      "Train shape: (867, 71) → (867, 113)\n",
      "Test shape: (292, 71) → (292, 113)\n",
      " The number of columns in the train and test data is the same.\n",
      " The column names in the train and test data are the same.\n",
      "NaN count - Train: 0, Test: 0\n",
      "Inf count - Train: 0, Test: 0\n",
      " Feature engineering validation is completed !\n",
      "\n"
     ]
    }
   ],
   "source": [
    "X_train_engineered, X_test_engineered = apply_feature_engineering(\n",
    "    X_train_final_imputed, \n",
    "    X_test_final_imputed, \n",
    "    y_train_cleaned\n",
    ")\n",
    "\n",
    "validate_feature_engineering(\n",
    "    X_train_final_imputed, \n",
    "    X_test_final_imputed,\n",
    "    X_train_engineered, \n",
    "    X_test_engineered\n",
    ")"
   ]
  },
  {
   "cell_type": "markdown",
   "id": "190ea4f9-7d7f-44ef-9ce3-304ab157a469",
   "metadata": {},
   "source": [
    "## encoding "
   ]
  },
  {
   "cell_type": "code",
   "execution_count": 29,
   "id": "5ad5d536-c778-481c-8015-6f0cd6da71ed",
   "metadata": {},
   "outputs": [],
   "source": [
    "def encode_house_price_data(X_train, X_test, y_train):\n",
    "    X_train_enc = X_train.copy()\n",
    "    X_test_enc = X_test.copy()\n",
    "\n",
    "    # ----- ORDINAL ENCODING -----\n",
    "    ordinal_mappings = {\n",
    "        'MSZoning':       ['C (all)', 'RH', 'RM', 'RL', 'FV'],\n",
    "        'LandContour':    ['Low', 'Bnk', 'HLS', 'Lvl'],\n",
    "        'Electrical':     ['FuseP', 'FuseF', 'FuseA', 'SBrkr'],\n",
    "        'MasVnrType':     ['Missing', 'BrkCmn', 'BrkFace', 'Stone'],\n",
    "        'RoofMatl':       ['Roll', 'Tar&Grv', 'CompShg', 'WdShngl', 'WdShake', 'Metal'],\n",
    "        'HouseStyle':     ['SFoyer', 'SLvl', '1.5Unf', '1Story', '1.5Fin', '2.5Unf', '2Story', '2.5Fin'],\n",
    "        'ExterQual':      ['Po', 'Fa', 'TA', 'Gd', 'Ex'],\n",
    "        'ExterCond':      ['Po', 'Fa', 'TA', 'Gd', 'Ex'],\n",
    "        'BsmtQual':       ['Fa', 'TA', 'Gd', 'Ex'],\n",
    "        'BsmtCond':       ['Po', 'Fa', 'TA', 'Gd'],\n",
    "        'BsmtExposure':   ['No', 'Mn', 'Av', 'Gd'],\n",
    "        'BsmtFinType1':   ['Unf', 'LwQ', 'Rec', 'BLQ', 'ALQ', 'GLQ'],\n",
    "        'BsmtFinType2':   ['Unf', 'LwQ', 'Rec', 'BLQ', 'ALQ', 'GLQ'],\n",
    "        'HeatingQC':      ['Po', 'Fa', 'TA', 'Gd', 'Ex'],\n",
    "        'KitchenQual':    ['Fa', 'TA', 'Gd', 'Ex'],\n",
    "        'Functional':     ['Maj2', 'Maj1', 'Mod', 'Min2', 'Min1', 'Typ'],\n",
    "        'FireplaceQu':    ['Missing', 'Po', 'Fa', 'TA', 'Gd', 'Ex'],\n",
    "        'GarageFinish':   ['Unf', 'RFn', 'Fin'],\n",
    "        'GarageQual':     ['Po', 'Fa', 'TA', 'Gd', 'Ex'],\n",
    "        'GarageCond':     ['Po', 'Fa', 'TA', 'Gd', 'Ex'],\n",
    "        'PavedDrive':     ['N', 'P', 'Y'],\n",
    "        'LotShape':       ['IR3', 'IR2', 'IR1', 'Reg'],\n",
    "        'LandSlope':      ['Sev', 'Mod', 'Gtl']\n",
    "    }\n",
    "\n",
    "    for col, order in ordinal_mappings.items():\n",
    "        if col in X_train_enc.columns:\n",
    "            mapping = {k: v for v, k in enumerate(order)}\n",
    "            X_train_enc[col] = X_train_enc[col].map(mapping)\n",
    "            X_test_enc[col] = X_test_enc[col].map(mapping).fillna(-1)\n",
    "\n",
    "    # ----- BINARY ENCODING -----\n",
    "    if 'CentralAir' in X_train_enc.columns:\n",
    "        X_train_enc['CentralAir'] = X_train_enc['CentralAir'].map({'N': 0, 'Y': 1})\n",
    "        X_test_enc['CentralAir'] = X_test_enc['CentralAir'].map({'N': 0, 'Y': 1})\n",
    "\n",
    "    # ----- ONE-HOT ENCODING -----\n",
    "    onehot_cols = [\n",
    "        'MSSubClass', 'LotConfig', 'BldgType', 'RoofStyle', 'Exterior1st',\n",
    "        'Exterior2nd', 'Condition1', 'Foundation', 'Heating', 'GarageType'\n",
    "    ]\n",
    "    \n",
    "    onehot_cols = [col for col in onehot_cols if col in X_train_enc.columns]\n",
    "    \n",
    "    if onehot_cols:\n",
    "        X_train_enc = pd.get_dummies(X_train_enc, columns=onehot_cols, drop_first=True, dtype=int)\n",
    "        X_test_enc = pd.get_dummies(X_test_enc, columns=onehot_cols, drop_first=True, dtype=int)\n",
    "        X_train_enc, X_test_enc = X_train_enc.align(X_test_enc, join='left', axis=1, fill_value=0)\n",
    "\n",
    "    # ----- NEIGHBORHOOD: TARGET ENCODING -----\n",
    "    if 'Neighborhood' in X_train.columns:\n",
    "        # Simple and robust approach\n",
    "        smoothing = 10\n",
    "        global_median = y_train.median()\n",
    "        \n",
    "        X_train_neighborhood = X_train['Neighborhood'].fillna('Unknown')\n",
    "        X_test_neighborhood = X_test['Neighborhood'].fillna('Unknown')\n",
    "        \n",
    "        neighborhood_encoded = np.full(len(X_train), global_median)\n",
    "        kf = KFold(n_splits=5, shuffle=True, random_state=42)\n",
    "        \n",
    "        for train_idx, val_idx in kf.split(X_train):\n",
    "            X_tr_neigh = X_train_neighborhood.iloc[train_idx]\n",
    "            X_val_neigh = X_train_neighborhood.iloc[val_idx]\n",
    "            y_tr = y_train.iloc[train_idx]\n",
    "            \n",
    "            neigh_medians = {}\n",
    "            for neigh in X_tr_neigh.unique():\n",
    "                mask = X_tr_neigh == neigh\n",
    "                if mask.sum() > 0:\n",
    "                    neigh_prices = y_tr[mask]\n",
    "                    median_price = neigh_prices.median()\n",
    "                    count = len(neigh_prices)\n",
    "                    smoothed_price = (median_price * count + global_median * smoothing) / (count + smoothing)\n",
    "                    neigh_medians[neigh] = smoothed_price\n",
    "                else:\n",
    "                    neigh_medians[neigh] = global_median\n",
    "            \n",
    "            for i, val_idx_i in enumerate(val_idx):\n",
    "                neigh = X_val_neigh.iloc[i]\n",
    "                neighborhood_encoded[val_idx_i] = neigh_medians.get(neigh, global_median)\n",
    "        \n",
    "        X_train_enc['Neighborhood_TE'] = neighborhood_encoded\n",
    "        \n",
    "        neigh_medians_test = {}\n",
    "        for neigh in X_train_neighborhood.unique():\n",
    "            mask = X_train_neighborhood == neigh\n",
    "            if mask.sum() > 0:\n",
    "                neigh_prices = y_train[mask]\n",
    "                median_price = neigh_prices.median()\n",
    "                count = len(neigh_prices)\n",
    "                smoothed_price = (median_price * count + global_median * smoothing) / (count + smoothing)\n",
    "                neigh_medians_test[neigh] = smoothed_price\n",
    "            else:\n",
    "                neigh_medians_test[neigh] = global_median\n",
    "        \n",
    "        X_test_enc['Neighborhood_TE'] = X_test_neighborhood.map(neigh_medians_test)\n",
    "        X_test_enc['Neighborhood_TE'].fillna(global_median, inplace=True)\n",
    "        \n",
    "        X_train_enc.drop('Neighborhood', axis=1, inplace=True)\n",
    "        X_test_enc.drop('Neighborhood', axis=1, inplace=True)\n",
    "\n",
    "    # ----- SALETYPE, SALECONDITION: FREQUENCY ENCODING -----\n",
    "    freq_cols = ['SaleType', 'SaleCondition']\n",
    "    for col in freq_cols:\n",
    "        if col in X_train.columns:\n",
    "            freqs = X_train[col].value_counts(normalize=True)\n",
    "            min_freq = freqs.min() if len(freqs) > 0 else 0.001\n",
    "            \n",
    "            X_train_enc[col] = X_train[col].map(freqs)\n",
    "            X_test_enc[col] = X_test[col].map(freqs).fillna(min_freq)\n",
    "\n",
    "    X_train_enc.fillna(0, inplace=True)\n",
    "    X_test_enc.fillna(0, inplace=True)\n",
    "\n",
    "    return X_train_enc, X_test_enc"
   ]
  },
  {
   "cell_type": "code",
   "execution_count": 30,
   "id": "1ad2867f-3e64-4e31-8059-d4b078fd702a",
   "metadata": {},
   "outputs": [
    {
     "name": "stdout",
     "output_type": "stream",
     "text": [
      "Training set shape: (867, 134)\n",
      "Test set shape: (292, 134)\n",
      "Columns match: True\n",
      "\n",
      "Neighborhood_TE stats:\n",
      "Train: count       867.000000\n",
      "mean     167582.638782\n",
      "std       34678.873981\n",
      "min      124344.827586\n",
      "25%      141035.398230\n",
      "50%      167684.210526\n",
      "75%      193902.127660\n",
      "max      257666.666667\n",
      "Name: Neighborhood_TE, dtype: float64\n",
      "Test: count                                           292\n",
      "unique                                           25\n",
      "top       SalePrice    141496.598639\n",
      "dtype: float64\n",
      "freq                                             44\n",
      "Name: Neighborhood_TE, dtype: object\n",
      "\n",
      "Missing values in training: 0\n",
      "Missing values in test: 0\n"
     ]
    }
   ],
   "source": [
    "X_train_encoded, X_test_encoded = encode_house_price_data(\n",
    "    X_train_final_imputed, X_test_final_imputed, y_train_cleaned\n",
    ")\n",
    "\n",
    "print(f\"Training set shape: {X_train_encoded.shape}\")\n",
    "print(f\"Test set shape: {X_test_encoded.shape}\")\n",
    "print(f\"Columns match: {list(X_train_encoded.columns) == list(X_test_encoded.columns)}\")\n",
    "\n",
    "if 'Neighborhood_TE' in X_train_encoded.columns:\n",
    "    print(f\"\\nNeighborhood_TE stats:\")\n",
    "    print(f\"Train: {X_train_encoded['Neighborhood_TE'].describe()}\")\n",
    "    print(f\"Test: {X_test_encoded['Neighborhood_TE'].describe()}\")\n",
    "\n",
    "print(f\"\\nMissing values in training: {X_train_encoded.isnull().sum().sum()}\")\n",
    "print(f\"Missing values in test: {X_test_encoded.isnull().sum().sum()}\")"
   ]
  },
  {
   "cell_type": "markdown",
   "id": "ca307e5e-32ed-4739-9332-3b018aaefca4",
   "metadata": {},
   "source": [
    "## scaling"
   ]
  },
  {
   "cell_type": "code",
   "execution_count": 31,
   "id": "04e5387a-683a-4947-9c9d-ceae7875e22f",
   "metadata": {},
   "outputs": [
    {
     "data": {
      "text/plain": [
       "<Axes: >"
      ]
     },
     "execution_count": 31,
     "metadata": {},
     "output_type": "execute_result"
    },
    {
     "data": {
      "image/png": "[encoded data removed]",
      "text/plain": [
       "<Figure size 640x480 with 1 Axes>"
      ]
     },
     "metadata": {},
     "output_type": "display_data"
    }
   ],
   "source": [
    "X_train_encoded['EnclosedPorch'].hist(bins=50)\n"
   ]
  },
  {
   "cell_type": "code",
   "execution_count": 32,
   "id": "f2e1e8cf-4fac-46e3-a1f0-b43763c49e01",
   "metadata": {},
   "outputs": [],
   "source": [
    "def find_sparse_columns(df: pd.DataFrame, threshold: float = 0.95) -> list:\n",
    "    sparse_cols = []\n",
    "    row_count = len(df)\n",
    "    for col in df.select_dtypes(include=[np.number]).columns:\n",
    "        zero_ratio = (df[col] == 0).sum() / row_count\n",
    "        if zero_ratio >= threshold:\n",
    "            sparse_cols.append(col)\n",
    "    return sparse_cols\n",
    "\n",
    "def analyze_sparse_columns(df: pd.DataFrame, y: pd.Series, threshold: float = 0.95):\n",
    "    sparse_cols = find_sparse_columns(df, threshold)\n",
    "    print(f\"Sparse columns (threshold={threshold}): {len(sparse_cols)} of {len(df.columns)}\")\n",
    "    original_features = []\n",
    "    one_hot_features = []\n",
    "    for col in sparse_cols:\n",
    "        if '_' in col:\n",
    "            one_hot_features.append(col)\n",
    "        else:\n",
    "            original_features.append(col)\n",
    "    print(f\"  Original sparse: {len(original_features)}\")\n",
    "    print(f\"  One-hot sparse: {len(one_hot_features)}\")\n",
    "    return original_features, one_hot_features\n",
    "\n",
    "def handle_sparse_columns_importance(X_train: pd.DataFrame, X_test: pd.DataFrame, y_train: pd.Series,\n",
    "                                     threshold: float = 0.95,\n",
    "                                     conservative_threshold: float = 0.98):\n",
    "    original_features, one_hot_features = analyze_sparse_columns(X_train, y_train, threshold)\n",
    "\n",
    "    X_train_processed = X_train.copy()\n",
    "    X_test_processed = X_test.copy()\n",
    "    removed_cols = []\n",
    "\n",
    "    if len(original_features) > 0:\n",
    "        print(\"\\nChecking importance for original sparse columns...\")\n",
    "        X_sparse = X_train[original_features]\n",
    "        rf = RandomForestRegressor(n_estimators=50, random_state=42)\n",
    "        rf.fit(X_sparse, y_train)\n",
    "        importance = pd.DataFrame({\n",
    "            'feature': original_features,\n",
    "            'importance': rf.feature_importances_\n",
    "        }).sort_values('importance', ascending=False)\n",
    "        top_n = max(5, int(len(original_features) * 0.2))\n",
    "        important_original = importance.head(top_n)['feature'].tolist()\n",
    "        print(f\"  Kept: {len(important_original)} original sparse\")\n",
    "        removed_original = [col for col in original_features if col not in important_original]\n",
    "    else:\n",
    "        removed_original = []\n",
    "\n",
    "    very_sparse_onehot = []\n",
    "    for col in one_hot_features:\n",
    "        zero_ratio = (X_train[col] == 0).sum() / len(X_train)\n",
    "        if zero_ratio >= conservative_threshold:\n",
    "            very_sparse_onehot.append(col)\n",
    "    print(f\"  Removed: {len(very_sparse_onehot)} very sparse one-hot\")\n",
    "\n",
    "    removed_cols = removed_original + very_sparse_onehot\n",
    "    X_train_processed = X_train_processed.drop(columns=removed_cols)\n",
    "    X_test_processed = X_test_processed.drop(columns=removed_cols)\n",
    "\n",
    "    print(f\"\\nResult:\")\n",
    "    print(f\"  Removed columns: {len(removed_cols)}\")\n",
    "    print(f\"  Remaining columns: {X_train_processed.shape[1]}\")\n",
    "\n",
    "    return X_train_processed, X_test_processed, removed_cols\n"
   ]
  },
  {
   "cell_type": "code",
   "execution_count": 33,
   "id": "56a6a7a8-2730-42a2-997c-7560fde5c6f1",
   "metadata": {},
   "outputs": [
    {
     "name": "stdout",
     "output_type": "stream",
     "text": [
      "Sparse columns (threshold=0.8): 70 of 134\n",
      "  Original sparse: 8\n",
      "  One-hot sparse: 62\n",
      "\n",
      "Checking importance for original sparse columns...\n",
      "  Kept: 5 original sparse\n",
      "  Removed: 27 very sparse one-hot\n",
      "\n",
      "Result:\n",
      "  Removed columns: 30\n",
      "  Remaining columns: 104\n"
     ]
    }
   ],
   "source": [
    "X_train_del_sparse, X_test_del_sparse, removed_cols = handle_sparse_columns_importance(\n",
    "    X_train_encoded,\n",
    "    X_test_encoded,\n",
    "    y_train_cleaned,\n",
    "    threshold=0.80,\n",
    "    conservative_threshold=0.99\n",
    ")\n"
   ]
  },
  {
   "cell_type": "code",
   "execution_count": 34,
   "id": "bb6aa21a-6ad8-4d88-a57d-d9b4f6b3dcd1",
   "metadata": {},
   "outputs": [
    {
     "data": {
      "text/plain": [
       "(867, 104)"
      ]
     },
     "execution_count": 34,
     "metadata": {},
     "output_type": "execute_result"
    }
   ],
   "source": [
    "X_train_del_sparse.shape"
   ]
  },
  {
   "cell_type": "code",
   "execution_count": 37,
   "id": "e111b9ed-af31-4135-82c3-6fa77976148b",
   "metadata": {},
   "outputs": [],
   "source": [
    "def determine_optimal_scaling(df: pd.DataFrame, \n",
    "                            skew_threshold=1.0,\n",
    "                            kurtosis_threshold=3.0,\n",
    "                            outlier_threshold=0.15,\n",
    "                            extreme_outlier_threshold=0.05,\n",
    "                            scale_factor_threshold=10.0,\n",
    "                            verbose=False) -> dict:\n",
    "    scaling_dict = {}\n",
    "    column_stats = {}\n",
    "    numeric_cols = df.select_dtypes(include=[np.number]).columns\n",
    "    \n",
    "    for col in numeric_cols:\n",
    "        col_data = df[col].dropna()\n",
    "        if len(col_data) == 0:\n",
    "            scaling_dict[col] = 'none'\n",
    "            continue\n",
    "        \n",
    "        stats = analyze_column_distribution(col_data, verbose=False)\n",
    "        column_stats[col] = stats\n",
    "        scaling_method = decide_scaling_method(stats, \n",
    "                                               skew_threshold,\n",
    "                                               kurtosis_threshold,\n",
    "                                               outlier_threshold,\n",
    "                                               extreme_outlier_threshold,\n",
    "                                               scale_factor_threshold,\n",
    "                                               verbose=False)\n",
    "        scaling_dict[col] = scaling_method\n",
    "    return scaling_dict, column_stats\n",
    "\n",
    "def analyze_column_distribution(column_data, verbose=False):\n",
    "    from scipy.stats import skew, kurtosis\n",
    "    stats = {\n",
    "        \"mean\": column_data.mean(),\n",
    "        \"std\": column_data.std(),\n",
    "        \"min\": column_data.min(),\n",
    "        \"max\": column_data.max(),\n",
    "        \"skewness\": skew(column_data),\n",
    "        \"kurtosis\": kurtosis(column_data),\n",
    "        \"outliers\": ((column_data - column_data.mean()).abs() > 3 * column_data.std()).sum() / len(column_data),\n",
    "        \"extreme_outliers\": ((column_data - column_data.mean()).abs() > 5 * column_data.std()).sum() / len(column_data),\n",
    "        \"scale_factor\": column_data.max() / (abs(column_data.min()) + 1e-9)  # avoid division by 0\n",
    "    }\n",
    "    if verbose:\n",
    "        print(f\"Stats for column:\\n{stats}\")\n",
    "    return stats\n",
    "    \n",
    "def decide_scaling_method(stats,\n",
    "                          skew_threshold,\n",
    "                          kurtosis_threshold,\n",
    "                          outlier_threshold,\n",
    "                          extreme_outlier_threshold,\n",
    "                          scale_factor_threshold,\n",
    "                          verbose=False):\n",
    "    skewness = abs(stats['skewness'])\n",
    "    kurt = abs(stats['kurtosis'])\n",
    "    outliers = stats['outliers']\n",
    "    extreme_outliers = stats['extreme_outliers']\n",
    "    scale_factor = stats['scale_factor']\n",
    "\n",
    "    if verbose:\n",
    "        print(f\"Evaluating scaling method - skew: {skewness}, kurt: {kurt}, outliers: {outliers}, extreme: {extreme_outliers}, scale: {scale_factor}\")\n",
    "\n",
    "    if extreme_outliers > extreme_outlier_threshold:\n",
    "        return 'robust'\n",
    "    elif outliers > outlier_threshold:\n",
    "        return 'power'\n",
    "    elif skewness > skew_threshold or kurt > kurtosis_threshold:\n",
    "        return 'quantile'\n",
    "    elif scale_factor > scale_factor_threshold:\n",
    "        return 'minmax'\n",
    "    elif skewness > 1.5:\n",
    "        return 'log_standard'\n",
    "    else:\n",
    "        return 'standard'\n",
    "\n",
    "def apply_advanced_scaling(X_train, X_test, scaling_dict, column_stats=None):\n",
    "    X_train_scaled = X_train.copy()\n",
    "    X_test_scaled = X_test.copy()\n",
    "    scalers = {}\n",
    "    \n",
    "    grouped_scaling = defaultdict(list)\n",
    "    for col, method in scaling_dict.items():\n",
    "        if col in X_train.columns:\n",
    "            grouped_scaling[method].append(col)\n",
    "    \n",
    "    if 'standard' in grouped_scaling:\n",
    "        scaler = StandardScaler()\n",
    "        cols = grouped_scaling['standard']\n",
    "        X_train_scaled[cols] = scaler.fit_transform(X_train[cols])\n",
    "        X_test_scaled[cols] = scaler.transform(X_test[cols])\n",
    "        scalers['standard'] = scaler\n",
    "    \n",
    "    if 'robust' in grouped_scaling:\n",
    "        scaler = RobustScaler()\n",
    "        cols = grouped_scaling['robust']\n",
    "        X_train_scaled[cols] = scaler.fit_transform(X_train[cols])\n",
    "        X_test_scaled[cols] = scaler.transform(X_test[cols])\n",
    "        scalers['robust'] = scaler\n",
    "    \n",
    "    if 'minmax' in grouped_scaling:\n",
    "        scaler = MinMaxScaler()\n",
    "        cols = grouped_scaling['minmax']\n",
    "        X_train_scaled[cols] = scaler.fit_transform(X_train[cols])\n",
    "        X_test_scaled[cols] = scaler.transform(X_test[cols])\n",
    "        scalers['minmax'] = scaler\n",
    "    \n",
    "    if 'power' in grouped_scaling:\n",
    "        scaler = PowerTransformer(method='yeo-johnson', standardize=True)\n",
    "        cols = grouped_scaling['power']\n",
    "        X_train_scaled[cols] = scaler.fit_transform(X_train[cols])\n",
    "        X_test_scaled[cols] = scaler.transform(X_test[cols])\n",
    "        scalers['power'] = scaler\n",
    "    \n",
    "    if 'quantile' in grouped_scaling:\n",
    "        scaler = QuantileTransformer(output_distribution='normal', random_state=42)\n",
    "        cols = grouped_scaling['quantile']\n",
    "        X_train_scaled[cols] = scaler.fit_transform(X_train[cols])\n",
    "        X_test_scaled[cols] = scaler.transform(X_test[cols])\n",
    "        scalers['quantile'] = scaler\n",
    "    \n",
    "    if 'log_standard' in grouped_scaling:\n",
    "        cols = grouped_scaling['log_standard']\n",
    "        X_train_log = np.log1p(X_train[cols])\n",
    "        X_test_log = np.log1p(X_test[cols])\n",
    "        scaler = StandardScaler()\n",
    "        X_train_scaled[cols] = scaler.fit_transform(X_train_log)\n",
    "        X_test_scaled[cols] = scaler.transform(X_test_log)\n",
    "        scalers['log_standard'] = scaler\n",
    "    \n",
    "    return X_train_scaled, X_test_scaled, scalers\n",
    "\n",
    "\n",
    "def prepare_data_for_linear_regression(X_train, X_test, verbose=False):\n",
    "    scaling_dict, column_stats = determine_optimal_scaling(\n",
    "        X_train, verbose=False\n",
    "    )\n",
    "    \n",
    "    X_train_scaled, X_test_scaled, scalers = apply_advanced_scaling(\n",
    "        X_train, X_test, scaling_dict, column_stats\n",
    "    )\n",
    "    \n",
    "    return X_train_scaled, X_test_scaled, scalers, scaling_dict\n"
   ]
  },
  {
   "cell_type": "code",
   "execution_count": 40,
   "id": "eb27fcb4-e375-4e49-b61a-9477c9c8efba",
   "metadata": {},
   "outputs": [],
   "source": [
    "X_train_scaled, X_test_scaled, scalers, scaling_dict = prepare_data_for_linear_regression(\n",
    "    X_train_del_sparse, X_test_del_sparse, verbose=True  )\n"
   ]
  },
  {
   "cell_type": "code",
   "execution_count": 41,
   "id": "ada4af88-f41f-4109-ab0e-810cb1d443cc",
   "metadata": {},
   "outputs": [
    {
     "data": {
      "text/plain": [
       "<Axes: >"
      ]
     },
     "execution_count": 41,
     "metadata": {},
     "output_type": "execute_result"
    },
    {
     "data": {
      "image/png": "[encoded data removed]",
      "text/plain": [
       "<Figure size 640x480 with 1 Axes>"
      ]
     },
     "metadata": {},
     "output_type": "display_data"
    }
   ],
   "source": [
    "X_train_scaled['EnclosedPorch'].hist(bins=50)"
   ]
  },
  {
   "cell_type": "code",
   "execution_count": 42,
   "id": "9abf1e8d-abfc-4c74-92ab-429442ae141d",
   "metadata": {},
   "outputs": [],
   "source": [
    "def identify_structural_redundant_columns(X, y, corr_thresh=0.1, multicol_thresh=0.85):\n",
    "    \"\"\"\n",
    "    X: features (DataFrame)\n",
    "    y: target (Series or single-column DataFrame)\n",
    "    \"\"\"\n",
    "    flagged_cols = {}\n",
    "    numeric_cols = X.select_dtypes(include=np.number).copy()\n",
    "\n",
    "    if isinstance(y, pd.DataFrame):\n",
    "        y = y.squeeze()\n",
    "    y_array = y.fillna(0).values\n",
    "\n",
    "    try:\n",
    "        correlations = numeric_cols.apply(\n",
    "            lambda col: np.corrcoef(col.fillna(0).values, y_array)[0, 1]\n",
    "        )\n",
    "        correlations = correlations.abs()\n",
    "        low_corr_cols = correlations[correlations < corr_thresh].index.tolist()\n",
    "        flagged_cols['LowCorrelation'] = low_corr_cols\n",
    "    except Exception:\n",
    "        flagged_cols['LowCorrelation'] = []\n",
    "\n",
    "    redundant_combinations = []\n",
    "    to_drop_redundant = []\n",
    "\n",
    "    valid_cols = [\n",
    "        col for col in numeric_cols.columns\n",
    "        if X[col].nunique() >= 5 and (X[col] == 0).mean() <= 0.8\n",
    "    ]\n",
    "\n",
    "    for col1, col2 in combinations(valid_cols, 2):\n",
    "        sum_series = X[col1].fillna(0) + X[col2].fillna(0)\n",
    "        for col3 in valid_cols:\n",
    "            if col3 in (col1, col2):\n",
    "                continue\n",
    "            target_series = X[col3].fillna(0)\n",
    "            match_ratio = np.isclose(sum_series, target_series, rtol=0.01, atol=1).mean()\n",
    "            if match_ratio > 0.98 and sum_series.std() > 10 and target_series.std() > 10:\n",
    "                redundant_combinations.append((col1, col2, col3))\n",
    "                to_drop_redundant.append(col3)\n",
    "\n",
    "    redundant_components = set()\n",
    "    redundant_targets = set()\n",
    "    for col1, col2, col3 in redundant_combinations:\n",
    "        redundant_components.update([col1, col2])\n",
    "        redundant_targets.add(col3)\n",
    "\n",
    "    flagged_cols['RedundantToDrop'] = list(set(to_drop_redundant))\n",
    "\n",
    "    high_corr_pairs = []\n",
    "    to_drop_multicol = []\n",
    "\n",
    "    if numeric_cols.shape[1] > 1:\n",
    "        corr_matrix = numeric_cols.corr().abs()\n",
    "        upper_tri = corr_matrix.where(np.triu(np.ones(corr_matrix.shape), k=1).astype(bool))\n",
    "        corr_with_target = numeric_cols.apply(\n",
    "            lambda col: np.corrcoef(col.fillna(0).values, y_array)[0, 1]\n",
    "        ).abs()\n",
    "\n",
    "        for col in upper_tri.columns:\n",
    "            for row in upper_tri.index:\n",
    "                if (row in redundant_components and col in redundant_targets) or \\\n",
    "                   (col in redundant_components and row in redundant_targets):\n",
    "                    continue\n",
    "                corr_val = upper_tri.loc[row, col]\n",
    "                if pd.notnull(corr_val) and corr_val > multicol_thresh:\n",
    "                    high_corr_pairs.append((row, col))\n",
    "                    if corr_with_target.get(row, 0) < corr_with_target.get(col, 0):\n",
    "                        to_drop_multicol.append(row)\n",
    "                    else:\n",
    "                        to_drop_multicol.append(col)\n",
    "\n",
    "    to_drop_multicol = [col for col in to_drop_multicol if col not in redundant_components]\n",
    "    flagged_cols['MulticollinearityToDrop'] = list(set(to_drop_multicol))\n",
    "\n",
    "    return flagged_cols\n"
   ]
  },
  {
   "cell_type": "code",
   "execution_count": 43,
   "id": "cab71d70-e069-4dc4-8194-5107be47c7c1",
   "metadata": {},
   "outputs": [],
   "source": [
    "flags = identify_structural_redundant_columns(X_train_scaled, y_train_cleaned)\n",
    "\n",
    "cols_to_drop = list(set(\n",
    "    flags['LowCorrelation'] +\n",
    "    flags['RedundantToDrop'] +\n",
    "    flags['MulticollinearityToDrop']\n",
    "))\n",
    "\n",
    "X_train_cleaned_final = X_train_scaled.drop(columns=cols_to_drop)\n",
    "X_test_cleaned_final = X_test_scaled.drop(columns=cols_to_drop)\n"
   ]
  },
  {
   "cell_type": "code",
   "execution_count": 44,
   "id": "8f511047-c0a4-44cd-883d-3da5b3c4de1c",
   "metadata": {},
   "outputs": [
    {
     "name": "stdout",
     "output_type": "stream",
     "text": [
      "\n",
      "--- LowCorrelation ---\n",
      "columns count: 30\n",
      "columns: ['LandContour', 'LandSlope', 'RoofMatl', 'ExterCond', 'BsmtHalfBath', 'GarageCond', 'ScreenPorch', 'MoSold', 'YrSold', 'MSSubClass_160', 'MSSubClass_20', 'MSSubClass_70', 'MSSubClass_80', 'MSSubClass_85', 'LotConfig_CulDSac', 'LotConfig_FR2', 'LotConfig_Inside', 'BldgType_Twnhs', 'BldgType_TwnhsE', 'RoofStyle_Gable', 'Exterior1st_BrkFace', 'Exterior1st_Plywood', 'Exterior1st_Stucco', 'Exterior1st_WdShing', 'Exterior2nd_HdBoard', 'Exterior2nd_Plywood', 'Exterior2nd_Stucco', 'Exterior2nd_Wd Shng', 'Condition1_RRAe', 'Condition1_RRAn']\n",
      "\n",
      "--- RedundantToDrop ---\n",
      "columns count: 0\n",
      "columns: []\n",
      "\n",
      "--- MulticollinearityToDrop ---\n",
      "columns count: 12\n",
      "columns: ['MasVnrArea', 'BsmtFinType2', 'Exterior2nd_MetalSd', 'RoofStyle_Gable', 'Exterior2nd_Wd Sdng', 'Fireplaces', 'Exterior2nd_HdBoard', 'MSSubClass_190', 'Exterior2nd_VinylSd', 'Exterior1st_CemntBd', 'GarageArea', 'BldgType_Duplex']\n"
     ]
    }
   ],
   "source": [
    "for reason, columns in flags.items():\n",
    "    print(f\"\\n--- {reason} ---\")\n",
    "    print(f\"columns count: {len(columns)}\")\n",
    "    print(\"columns:\", columns)\n",
    "\n"
   ]
  },
  {
   "cell_type": "code",
   "execution_count": 45,
   "id": "ac77f560-87e3-454f-88b0-65f90a6738fc",
   "metadata": {},
   "outputs": [
    {
     "data": {
      "text/plain": [
       "(867, 104)"
      ]
     },
     "execution_count": 45,
     "metadata": {},
     "output_type": "execute_result"
    }
   ],
   "source": [
    "X_train_scaled.shape"
   ]
  },
  {
   "cell_type": "code",
   "execution_count": 46,
   "id": "b37adb1e-d8eb-4372-8909-bfcab5017d6e",
   "metadata": {},
   "outputs": [
    {
     "data": {
      "text/plain": [
       "(867, 64)"
      ]
     },
     "execution_count": 46,
     "metadata": {},
     "output_type": "execute_result"
    }
   ],
   "source": [
    "X_train_cleaned_final.shape"
   ]
  },
  {
   "cell_type": "markdown",
   "id": "74c307da-b807-4be0-98e3-e3040b271371",
   "metadata": {},
   "source": [
    "## model qurulmasi ve metric-lere baxilmasi"
   ]
  },
  {
   "cell_type": "code",
   "execution_count": 47,
   "id": "8005af5d-4e33-4ae6-8667-0a5b7be88ded",
   "metadata": {},
   "outputs": [],
   "source": [
    "X_train = X_train_cleaned_final\n",
    "X_test = X_test_cleaned_final\n",
    "y_train = y_train_cleaned.values.ravel()  # .ravel() array etmək üçün\n",
    "y_test = pd.read_csv(\"y_test.csv\").values.ravel()\n"
   ]
  },
  {
   "cell_type": "code",
   "execution_count": 48,
   "id": "843bd451-1b67-4940-aa6e-3005987340b3",
   "metadata": {},
   "outputs": [
    {
     "name": "stdout",
     "output_type": "stream",
     "text": [
      " Train Set:\n",
      "  R² Score:  0.9267\n",
      "  MAE:       11773.89\n",
      "  MSE:       282371805.59\n",
      "\n",
      " Test Set:\n",
      "  R² Score:  0.9260\n",
      "  MAE:       15540.99\n",
      "  MSE:       567488258.88\n"
     ]
    }
   ],
   "source": [
    "y_train_log = np.log1p(y_train)\n",
    "y_test_log = np.log1p(y_test)  # sadəcə R² müqayisəsi üçün (opsional)\n",
    "\n",
    "model = LinearRegression()\n",
    "model.fit(X_train, y_train_log)\n",
    "\n",
    "y_pred_train_log = model.predict(X_train)\n",
    "y_pred_test_log = model.predict(X_test)\n",
    "\n",
    "y_pred_train = np.expm1(y_pred_train_log)\n",
    "y_pred_test = np.expm1(y_pred_test_log)\n",
    "\n",
    "print(\" Train Set:\")\n",
    "print(f\"  R² Score:  {r2_score(y_train, y_pred_train):.4f}\")\n",
    "print(f\"  MAE:       {mean_absolute_error(y_train, y_pred_train):.2f}\")\n",
    "print(f\"  MSE:       {mean_squared_error(y_train, y_pred_train):.2f}\")\n",
    "\n",
    "print(\"\\n Test Set:\")\n",
    "print(f\"  R² Score:  {r2_score(y_test, y_pred_test):.4f}\")\n",
    "print(f\"  MAE:       {mean_absolute_error(y_test, y_pred_test):.2f}\")\n",
    "print(f\"  MSE:       {mean_squared_error(y_test, y_pred_test):.2f}\")"
   ]
  },
  {
   "cell_type": "code",
   "execution_count": null,
   "id": "bf6af42f-ae5d-4111-91a7-b91f9ba15c10",
   "metadata": {},
   "outputs": [],
   "source": []
  }
 ],
 "metadata": {
  "kernelspec": {
   "display_name": "Python 3 (ipykernel)",
   "language": "python",
   "name": "python3"
  },
  "language_info": {
   "codemirror_mode": {
    "name": "ipython",
    "version": 3
   },
   "file_extension": ".py",
   "mimetype": "text/x-python",
   "name": "python",
   "nbconvert_exporter": "python",
   "pygments_lexer": "ipython3",
   "version": "3.13.2"
  }
 },
 "nbformat": 4,
 "nbformat_minor": 5
}
